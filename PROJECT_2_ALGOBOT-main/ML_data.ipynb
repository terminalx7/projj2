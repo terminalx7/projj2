{
 "cells": [
  {
   "cell_type": "code",
   "execution_count": 1,
   "id": "2a89ce0f-0c1b-4894-8df5-d567ddc74b28",
   "metadata": {},
   "outputs": [],
   "source": [
    "import pandas as pd\n",
    "import numpy as np\n",
    "from pathlib import Path\n",
    "from sklearn.linear_model import LogisticRegression\n",
    "from sklearn import metrics\n",
    "from sklearn.model_selection import train_test_split"
   ]
  },
  {
   "cell_type": "code",
   "execution_count": 2,
   "id": "a5f9a074-0f50-4541-9963-36a07e45734a",
   "metadata": {},
   "outputs": [],
   "source": [
    "btc_df = pd.read_csv(\n",
    "    Path(\"Project_2/BTCUSD_4h.csv\"),\n",
    "    index_col = \"Date\", \n",
    "    parse_dates = True, \n",
    "    infer_datetime_format = True\n",
    ")"
   ]
  },
  {
   "cell_type": "code",
   "execution_count": 3,
   "id": "4d4956bf-bc74-440f-a2a4-0565558a5b87",
   "metadata": {},
   "outputs": [],
   "source": [
    "btc_df['returns'] = np.log(btc_df.Close.pct_change() +1)"
   ]
  },
  {
   "cell_type": "code",
   "execution_count": 4,
   "id": "702ba1b7-566b-4469-979d-18134850712f",
   "metadata": {},
   "outputs": [],
   "source": [
    "btc_df['direction'] = [1 if i > 0 else -1 for i in btc_df.returns]"
   ]
  },
  {
   "cell_type": "code",
   "execution_count": 5,
   "id": "0617efa6-cb5c-4354-97b0-b4249b8bdc59",
   "metadata": {},
   "outputs": [],
   "source": [
    "def logit(btc_df, lags):\n",
    "    names = []\n",
    "    for i in range (1,lags +1):\n",
    "        btc_df['Lag_'+str(i)] = btc_df['returns'].shift(i)\n",
    "        btc_df['Lag_'+str(i)+'_dir'] = [1 if j > 0 else -1 for j in btc_df['Lag_'+str(i)]]\n",
    "        names.append('Lag_'+str(i)+'_dir')\n",
    "    return names"
   ]
  },
  {
   "cell_type": "code",
   "execution_count": 6,
   "id": "124d8382-8d56-41a6-8fe6-b56d5d68320a",
   "metadata": {},
   "outputs": [],
   "source": [
    "dirnames = logit(btc_df, 2) "
   ]
  },
  {
   "cell_type": "code",
   "execution_count": 7,
   "id": "4e720f7c-d348-40ad-b197-3f4d60cb1eda",
   "metadata": {},
   "outputs": [],
   "source": [
    "btc_df.dropna(inplace=True)"
   ]
  },
  {
   "cell_type": "code",
   "execution_count": 8,
   "id": "70732d67-f51d-4ce1-8408-6bd30097b0ec",
   "metadata": {},
   "outputs": [],
   "source": [
    "model = LogisticRegression()"
   ]
  },
  {
   "cell_type": "code",
   "execution_count": 9,
   "id": "1cfc491d-8dd3-41c6-8d5b-764baddc1ef6",
   "metadata": {},
   "outputs": [
    {
     "data": {
      "text/plain": [
       "LogisticRegression()"
      ]
     },
     "execution_count": 9,
     "metadata": {},
     "output_type": "execute_result"
    }
   ],
   "source": [
    "model.fit(btc_df[dirnames], btc_df['direction'])"
   ]
  },
  {
   "cell_type": "code",
   "execution_count": 10,
   "id": "2c5b8cb0-128c-4d8b-ad5b-5c7f49d376f3",
   "metadata": {},
   "outputs": [],
   "source": [
    "btc_df['prediction_logit'] = model.predict(btc_df[dirnames])"
   ]
  },
  {
   "cell_type": "code",
   "execution_count": 11,
   "id": "c6fb081c-651d-4082-bb65-5667d1534013",
   "metadata": {},
   "outputs": [],
   "source": [
    "btc_df['strategy_logit']=btc_df['prediction_logit']*btc_df['returns']"
   ]
  },
  {
   "cell_type": "code",
   "execution_count": 12,
   "id": "0904596f-d626-40f3-8ae5-b72ddc39d79b",
   "metadata": {},
   "outputs": [
    {
     "data": {
      "text/plain": [
       "returns            3.49316\n",
       "strategy_logit    10.96367\n",
       "dtype: float64"
      ]
     },
     "execution_count": 12,
     "metadata": {},
     "output_type": "execute_result"
    }
   ],
   "source": [
    "np.exp(btc_df[['returns','strategy_logit']].sum())"
   ]
  },
  {
   "cell_type": "code",
   "execution_count": 13,
   "id": "7e03ed4d-a6c2-4498-b4cf-8b7ae8c96397",
   "metadata": {},
   "outputs": [
    {
     "data": {
      "text/plain": [
       "<AxesSubplot:xlabel='Date'>"
      ]
     },
     "execution_count": 13,
     "metadata": {},
     "output_type": "execute_result"
    },
    {
     "data": {
      "image/png": "[encoded data removed]",
      "text/plain": [
       "<Figure size 432x288 with 1 Axes>"
      ]
     },
     "metadata": {
      "needs_background": "light"
     },
     "output_type": "display_data"
    }
   ],
   "source": [
    "np.exp(btc_df[['returns','strategy_logit']].cumsum()).plot()"
   ]
  },
  {
   "cell_type": "code",
   "execution_count": 14,
   "id": "bcea2131-bd34-4c2c-ab50-d63e29221e02",
   "metadata": {},
   "outputs": [],
   "source": [
    "train, test= train_test_split(btc_df, shuffle=False, test_size=0.25, random_state=0)"
   ]
  },
  {
   "cell_type": "code",
   "execution_count": 15,
   "id": "685a88bb-ded5-4257-9878-c493c3f8147c",
   "metadata": {},
   "outputs": [],
   "source": [
    "model = LogisticRegression()"
   ]
  },
  {
   "cell_type": "code",
   "execution_count": 16,
   "id": "e8b82c5d-96e3-43f7-bf41-675495c90b0f",
   "metadata": {},
   "outputs": [
    {
     "data": {
      "text/plain": [
       "LogisticRegression()"
      ]
     },
     "execution_count": 16,
     "metadata": {},
     "output_type": "execute_result"
    }
   ],
   "source": [
    "model.fit(train[dirnames], train['direction'])"
   ]
  },
  {
   "cell_type": "code",
   "execution_count": 17,
   "id": "2157d8cf-d7d7-49f7-8a12-3d05bc711e3f",
   "metadata": {},
   "outputs": [],
   "source": [
    "test['prediction_logit'] = model.predict(test[dirnames])"
   ]
  },
  {
   "cell_type": "code",
   "execution_count": 18,
   "id": "b0010f1a-bf00-462d-8eaa-74011385b217",
   "metadata": {},
   "outputs": [],
   "source": [
    "test['strategy_logit'] = test['prediction_logit']*test['returns']"
   ]
  },
  {
   "cell_type": "code",
   "execution_count": 19,
   "id": "3b14a37a-27d4-45ba-ad2d-11177166d145",
   "metadata": {},
   "outputs": [
    {
     "data": {
      "text/plain": [
       "returns            1.599658\n",
       "strategy_logit    12.575825\n",
       "dtype: float64"
      ]
     },
     "execution_count": 19,
     "metadata": {},
     "output_type": "execute_result"
    }
   ],
   "source": [
    "np.exp(test[['returns','strategy_logit']].sum())"
   ]
  },
  {
   "cell_type": "code",
   "execution_count": 24,
   "id": "2a00ab7c-a062-4ce4-a630-927d424ab674",
   "metadata": {},
   "outputs": [
    {
     "data": {
      "text/plain": [
       "<AxesSubplot:xlabel='Date'>"
      ]
     },
     "execution_count": 24,
     "metadata": {},
     "output_type": "execute_result"
    },
    {
     "data": {
      "image/png": "[encoded data removed]",
      "text/plain": [
       "<Figure size 432x288 with 1 Axes>"
      ]
     },
     "metadata": {
      "needs_background": "light"
     },
     "output_type": "display_data"
    }
   ],
   "source": [
    "ax=np.exp(test['returns'].cumsum()).plot()\n",
    "np.exp(test['strategy_logit'].cumsum()).plot(ax=ax)"
   ]
  },
  {
   "cell_type": "code",
   "execution_count": 21,
   "id": "400b3aa1-99a8-48b3-9b4a-a854b10efff2",
   "metadata": {},
   "outputs": [
    {
     "data": {
      "text/plain": [
       "array([[612, 460],\n",
       "       [507, 612]])"
      ]
     },
     "execution_count": 21,
     "metadata": {},
     "output_type": "execute_result"
    }
   ],
   "source": [
    "metrics.confusion_matrix(test['direction'], test['prediction_logit'])"
   ]
  },
  {
   "cell_type": "code",
   "execution_count": 22,
   "id": "54b219a3-a2f9-43d7-8df7-c90dafc3380a",
   "metadata": {},
   "outputs": [
    {
     "name": "stdout",
     "output_type": "stream",
     "text": [
      "              precision    recall  f1-score   support\n",
      "\n",
      "          -1       0.55      0.57      0.56      1072\n",
      "           1       0.57      0.55      0.56      1119\n",
      "\n",
      "    accuracy                           0.56      2191\n",
      "   macro avg       0.56      0.56      0.56      2191\n",
      "weighted avg       0.56      0.56      0.56      2191\n",
      "\n"
     ]
    }
   ],
   "source": [
    "print(metrics.classification_report(test['direction'], test['prediction_logit']))"
   ]
  },
  {
   "cell_type": "code",
   "execution_count": null,
   "id": "0e6b8283-c79c-4963-bfcb-e9dfebc9ef1e",
   "metadata": {},
   "outputs": [],
   "source": []
  }
 ],
 "metadata": {
  "kernelspec": {
   "display_name": "python (dev)",
   "language": "python",
   "name": "dev"
  },
  "language_info": {
   "codemirror_mode": {
    "name": "ipython",
    "version": 3
   },
   "file_extension": ".py",
   "mimetype": "text/x-python",
   "name": "python",
   "nbconvert_exporter": "python",
   "pygments_lexer": "ipython3",
   "version": "3.7.11"
  }
 },
 "nbformat": 4,
 "nbformat_minor": 5
}
